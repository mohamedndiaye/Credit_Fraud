{
 "cells": [
  {
   "cell_type": "markdown",
   "metadata": {},
   "source": [
    "###### 1. Data Input"
   ]
  },
  {
   "cell_type": "code",
   "execution_count": 1,
   "metadata": {},
   "outputs": [],
   "source": [
    "import matplotlib.pyplot as plt\n",
    "import pandas as pd\n",
    "import os\n",
    "import re\n",
    "from patsy import dmatrices\n",
    "from sklearn.metrics import accuracy_score, classification_report, confusion_matrix, f1_score\n",
    "from sklearn.linear_model import LogisticRegression\n",
    "from sklearn.model_selection import train_test_split, cross_val_score\n",
    "import numpy as np\n",
    "\n",
    "if __name__ == '__main__':\n",
    "    path_rein9 = r'C:\\Users\\rein9'\n",
    "    path_rein = r'C:\\Users\\Rein'\n",
    "    usr_path = path_rein9 if os.path.exists(path_rein9) == True else path_rein\n",
    "    train_path = os.path.join(usr_path, r'.kaggle\\competitions\\titanic', 'train.csv')\n",
    "    test_path = os.path.join(usr_path, r'.kaggle\\competitions\\titanic', 'test.csv')  \n",
    "    traindata = pd.read_csv('creditcard_train.csv')\n",
    "    testdata = pd.read_csv('creditcard_test.csv')"
   ]
  },
  {
   "cell_type": "code",
   "execution_count": null,
   "metadata": {},
   "outputs": [],
   "source": [
    "plt.scatter(traindata.Class, traindata.Time)\n",
    "# probably not going to use the Time feature\n",
    "# traindata.Time[traindata.Class == 0].hist()\n",
    "count_classes = pd.value_counts(traindata['Class'], sort = True).sort_index()\n",
    "count_classes.plot(kind = 'bar')\n",
    "plt.title(\"Fraud class histogram\")\n",
    "plt.xlabel(\"Class\")\n",
    "plt.ylabel(\"Frequency\")"
   ]
  },
  {
   "cell_type": "markdown",
   "metadata": {},
   "source": [
    "### The data is clearly off balance!!!"
   ]
  },
  {
   "cell_type": "code",
   "execution_count": 2,
   "metadata": {},
   "outputs": [
    {
     "data": {
      "image/png": "[encoded data removed]",
      "text/plain": [
       "<Figure size 432x288 with 1 Axes>"
      ]
     },
     "metadata": {},
     "output_type": "display_data"
    }
   ],
   "source": [
    "# normalize Amount\n",
    "from sklearn.preprocessing import StandardScaler\n",
    "traindata.Amount.hist()\n",
    "traindata['normAmount'] = StandardScaler().fit_transform(traindata.Amount.values.reshape((-1,1)))"
   ]
  },
  {
   "cell_type": "code",
   "execution_count": 3,
   "metadata": {},
   "outputs": [
    {
     "data": {
      "text/plain": [
       "<matplotlib.axes._subplots.AxesSubplot at 0x2cb34772320>"
      ]
     },
     "execution_count": 3,
     "metadata": {},
     "output_type": "execute_result"
    },
    {
     "data": {
      "image/png": "[encoded data removed]",
      "text/plain": [
       "<Figure size 432x288 with 1 Axes>"
      ]
     },
     "metadata": {},
     "output_type": "display_data"
    }
   ],
   "source": [
    "import seaborn as sns\n",
    "traindata.head()\n",
    "sns.kdeplot(traindata.Amount[traindata.Class == 1],shade=True,color=\"red\")"
   ]
  },
  {
   "cell_type": "code",
   "execution_count": 4,
   "metadata": {},
   "outputs": [],
   "source": [
    "# target = traindata.iloc[:,-1]\n",
    "target = np.ravel(traindata.Class)\n",
    "features = traindata.iloc[:, 2:-2]\n",
    "traindata = traindata.drop(['Id', 'Amount', 'Time'], axis =1)\n",
    "X = traindata.drop(['Class'], axis =1)\n",
    "y = traindata.Class"
   ]
  },
  {
   "cell_type": "code",
   "execution_count": 5,
   "metadata": {},
   "outputs": [
    {
     "name": "stdout",
     "output_type": "stream",
     "text": [
      "Number transactions train dataset:  57018\n",
      "Number transactions test dataset:  57018\n",
      "Total number of transactions:  114036\n"
     ]
    }
   ],
   "source": [
    "# X_train, X_test, y_train, y_test = train_test_split(X,y,test_size = (1 - testdata.shape[0]/X.shape[0]), random_state = 42)\n",
    "# X_train, X_test, y_train, y_test = train_test_split(X,y,test_size = testdata.shape[0]/X.shape[0], random_state = 42)\n",
    "sample_n = testdata.shape[0]\n",
    "idx = np.array(np.random.choice(X.shape[0], size=sample_n, replace=False))\n",
    "X_train = X.iloc[idx,:]\n",
    "y_train = y[idx]\n",
    "\n",
    "test_idx = np.array(np.random.choice(X.shape[0], size=sample_n, replace=False))\n",
    "X_test = X.iloc[test_idx,:]\n",
    "y_test = y.iloc[test_idx]\n",
    "\n",
    "print(\"Number transactions train dataset: \", len(X_train))\n",
    "print(\"Number transactions test dataset: \", len(X_test))\n",
    "print(\"Total number of transactions: \", len(X_train)+len(X_test))"
   ]
  },
  {
   "cell_type": "markdown",
   "metadata": {},
   "source": [
    "### Try: Logistic regression classifier with Undersampled data\n",
    "    Due to the imbalance of the data, it is pretty much meaningless of the prediction.\n",
    "      1) Need to increase recall\n",
    "      2) Apply a cost function when having FN and FP with different weights for each type of error "
   ]
  },
  {
   "cell_type": "code",
   "execution_count": 6,
   "metadata": {},
   "outputs": [
    {
     "name": "stdout",
     "output_type": "stream",
     "text": [
      "-------------------------------------------\n",
      "C parameter:  0.01\n",
      "-------------------------------------------\n",
      "\n",
      "Logistic Regression Accuracy:0.999\n",
      "Recall Score for Logistic Regression\n",
      "\n",
      "0.42168674698795183 \n",
      "\n",
      "F1 score for Logistic Regression\n",
      "\n",
      "0.5737704918032787 \n",
      "\n",
      "-------------------------------------------\n",
      "C parameter:  0.1\n",
      "-------------------------------------------\n",
      "\n",
      "Logistic Regression Accuracy:0.999\n",
      "Recall Score for Logistic Regression\n",
      "\n",
      "0.6265060240963856 \n",
      "\n",
      "F1 score for Logistic Regression\n",
      "\n",
      "0.7428571428571429 \n",
      "\n",
      "-------------------------------------------\n",
      "C parameter:  1\n",
      "-------------------------------------------\n",
      "\n",
      "Logistic Regression Accuracy:0.999\n",
      "Recall Score for Logistic Regression\n",
      "\n",
      "0.6987951807228916 \n",
      "\n",
      "F1 score for Logistic Regression\n",
      "\n",
      "0.7945205479452054 \n",
      "\n",
      "-------------------------------------------\n",
      "C parameter:  10\n",
      "-------------------------------------------\n",
      "\n",
      "Logistic Regression Accuracy:0.999\n",
      "Recall Score for Logistic Regression\n",
      "\n",
      "0.7108433734939759 \n",
      "\n",
      "F1 score for Logistic Regression\n",
      "\n",
      "0.7972972972972974 \n",
      "\n",
      "-------------------------------------------\n",
      "C parameter:  100\n",
      "-------------------------------------------\n",
      "\n",
      "Logistic Regression Accuracy:0.999\n",
      "Recall Score for Logistic Regression\n",
      "\n",
      "0.7108433734939759 \n",
      "\n",
      "F1 score for Logistic Regression\n",
      "\n",
      "0.7972972972972974 \n",
      "\n",
      "[0.5737704918032787, 0.7428571428571429, 0.7945205479452054, 0.7972972972972974, 0.7972972972972974]\n"
     ]
    }
   ],
   "source": [
    "from sklearn.metrics import accuracy_score, classification_report, confusion_matrix, f1_score, recall_score\n",
    "c_range = [0.01, 0.1, 1, 10, 100]\n",
    "fscore_t = []\n",
    "for i, c_param in enumerate(c_range):\n",
    "    print('-------------------------------------------')\n",
    "    print('C parameter: ', c_param)\n",
    "    print('-------------------------------------------')\n",
    "    print('')\n",
    "    clf = LogisticRegression(C = c_param, penalty = 'l1')\n",
    "    clf.fit(X_train, y_train.values.ravel())\n",
    "    lr_ptrainfull = clf.predict(X_train)\n",
    "    fscore_t.append(f1_score(y_train, lr_ptrainfull))\n",
    "    print('Logistic Regression Accuracy:{0:.3f}'.format(accuracy_score(y_train, lr_ptrainfull), ''))\n",
    "    print('Recall Score for Logistic Regression\\n')\n",
    "    print(recall_score(y_train, lr_ptrainfull), '\\n')\n",
    "#     print('Confusion matrix for Logistic Regression\\n')\n",
    "#     print(confusion_matrix(y_train, lr_ptrainfull), '\\n')\n",
    "    print('F1 score for Logistic Regression\\n')\n",
    "    print(f1_score(y_train, lr_ptrainfull), '\\n')\n",
    "print(fscore_t)"
   ]
  },
  {
   "cell_type": "code",
   "execution_count": 7,
   "metadata": {
    "scrolled": true
   },
   "outputs": [
    {
     "name": "stdout",
     "output_type": "stream",
     "text": [
      "-------------------------------------------\n",
      "C parameter:  0.01\n",
      "-------------------------------------------\n",
      "\n",
      "Logistic Regression Accuracy:0.999\n",
      "Recall Score for Logistic Regression\n",
      "\n",
      "0.5094339622641509 \n",
      "\n",
      "F1 score for Logistic Regression\n",
      "\n",
      "0.6467065868263473 \n",
      "\n",
      "-------------------------------------------\n",
      "C parameter:  0.1\n",
      "-------------------------------------------\n",
      "\n",
      "Logistic Regression Accuracy:0.999\n",
      "Recall Score for Logistic Regression\n",
      "\n",
      "0.6415094339622641 \n",
      "\n",
      "F1 score for Logistic Regression\n",
      "\n",
      "0.7513812154696131 \n",
      "\n",
      "-------------------------------------------\n",
      "C parameter:  1\n",
      "-------------------------------------------\n",
      "\n",
      "Logistic Regression Accuracy:0.999\n",
      "Recall Score for Logistic Regression\n",
      "\n",
      "0.6698113207547169 \n",
      "\n",
      "F1 score for Logistic Regression\n",
      "\n",
      "0.7717391304347825 \n",
      "\n",
      "-------------------------------------------\n",
      "C parameter:  10\n",
      "-------------------------------------------\n",
      "\n",
      "Logistic Regression Accuracy:0.999\n",
      "Recall Score for Logistic Regression\n",
      "\n",
      "0.6698113207547169 \n",
      "\n",
      "F1 score for Logistic Regression\n",
      "\n",
      "0.7675675675675675 \n",
      "\n",
      "-------------------------------------------\n",
      "C parameter:  100\n",
      "-------------------------------------------\n",
      "\n",
      "Logistic Regression Accuracy:0.999\n",
      "Recall Score for Logistic Regression\n",
      "\n",
      "0.660377358490566 \n",
      "\n",
      "F1 score for Logistic Regression\n",
      "\n",
      "0.7608695652173912 \n",
      "\n",
      "[0.6467065868263473, 0.7513812154696131, 0.7717391304347825, 0.7675675675675675, 0.7608695652173912]\n",
      "1\n"
     ]
    }
   ],
   "source": [
    "c_range = [0.01, 0.1, 1, 10, 100]\n",
    "fscore = []\n",
    "for i, c_param in enumerate(c_range):\n",
    "    print('-------------------------------------------')\n",
    "    print('C parameter: ', c_param)\n",
    "    print('-------------------------------------------')\n",
    "    print('')\n",
    "    clf = LogisticRegression(C = c_param, penalty = 'l1')\n",
    "    clf.fit(X_train, y_train.values.ravel())\n",
    "    lr_ptestfull = clf.predict(X_test)\n",
    "    fscore.append(f1_score(y_test, lr_ptestfull))\n",
    "    print('Logistic Regression Accuracy:{0:.3f}'.format(accuracy_score(y_test, lr_ptestfull), ''))\n",
    "    print('Recall Score for Logistic Regression\\n')\n",
    "    print(recall_score(y_test, lr_ptestfull), '\\n')\n",
    "#     print('Confusion matrix for Logistic Regression\\n')\n",
    "#     print(confusion_matrix(y_test, lr_ptestfull), '\\n')\n",
    "    print('F1 score for Logistic Regression\\n')\n",
    "    print(f1_score(y_test, lr_ptestfull), '\\n')\n",
    "print(fscore)\n",
    "cfs_final = c_range[fscore.index(max(fscore))]\n",
    "print(cfs_final)"
   ]
  },
  {
   "cell_type": "markdown",
   "metadata": {},
   "source": [
    "#  Add feature selection"
   ]
  },
  {
   "cell_type": "code",
   "execution_count": 8,
   "metadata": {},
   "outputs": [
    {
     "name": "stdout",
     "output_type": "stream",
     "text": [
      "Index(['V1', 'V2', 'V3', 'V4', 'V5', 'V6', 'V7', 'V8', 'V9', 'V10', 'V11',\n",
      "       'V12', 'V13', 'V14', 'V15', 'V16', 'V17', 'V18', 'V19', 'V20', 'V21',\n",
      "       'V22', 'V23', 'V24', 'V25', 'V26', 'V27', 'V28', 'normAmount'],\n",
      "      dtype='object')\n"
     ]
    },
    {
     "data": {
      "text/plain": [
       "Pipeline(memory=None,\n",
       "     steps=[('anova', SelectKBest(k=24, score_func=<function f_regression at 0x000002CB339C0488>)), ('svc', LogisticRegression(C=1, class_weight=None, dual=False, fit_intercept=True,\n",
       "          intercept_scaling=1, max_iter=100, multi_class='ovr', n_jobs=1,\n",
       "          penalty='l1', random_state=None, solver='liblinear', tol=0.0001,\n",
       "          verbose=0, warm_start=False))])"
      ]
     },
     "execution_count": 8,
     "metadata": {},
     "output_type": "execute_result"
    }
   ],
   "source": [
    "from sklearn.feature_selection import SelectKBest\n",
    "from sklearn.feature_selection import f_regression\n",
    "from sklearn.pipeline import Pipeline\n",
    "print(X.columns)\n",
    "lr_filter = SelectKBest(f_regression, k = 8)\n",
    "final_clffull = LogisticRegression(C=cfs_final, penalty = 'l1')\n",
    "lr_svm = Pipeline([('anova', lr_filter), ('svc', final_clffull)])\n",
    "lr_svm.set_params(anova__k=24, svc__C=cfs_final).fit(X_train, y_train.values.ravel())"
   ]
  },
  {
   "cell_type": "code",
   "execution_count": null,
   "metadata": {},
   "outputs": [],
   "source": [
    "final_clffull = LogisticRegression(C=10, penalty = 'l1')\n",
    "final_clffull.fit(X_train, y_train.values.ravel())\n",
    "lr_ptestfull = final_clffull.predict(X_test)\n",
    "print('Logistic Regression Accuracy:{0:.3f}'.format(accuracy_score(y_test, lr_ptestfull), ''))\n",
    "print('Classification report for Logistic Regression\\n')\n",
    "print(classification_report(y_test, lr_ptestfull), '\\n')\n",
    "print('Confusion matrix for Logistic Regression\\n')\n",
    "print(confusion_matrix(y_test, lr_ptestfull), '\\n')"
   ]
  },
  {
   "cell_type": "code",
   "execution_count": 9,
   "metadata": {},
   "outputs": [],
   "source": [
    "ksel = lr_svm.named_steps['anova'].get_support()\n",
    "features = pd.DataFrame(list(zip(X.columns, ksel)))\n",
    "features = features[0][features[1] == True]"
   ]
  },
  {
   "cell_type": "code",
   "execution_count": 10,
   "metadata": {},
   "outputs": [
    {
     "name": "stdout",
     "output_type": "stream",
     "text": [
      "57018\n",
      "80\n"
     ]
    }
   ],
   "source": [
    "reduced_test = testdata.drop(['Id', 'Amount', 'Time'], axis = 1)\n",
    "reduced_test['normAmount'] = StandardScaler().fit_transform(testdata.Amount.values.reshape((-1,1)))\n",
    "# pred = final_clffull.predict(reduced_test[features])\n",
    "pred = lr_svm.predict(reduced_test)\n",
    "print(reduced_test.shape[0])\n",
    "print(sum(pred[pred==1]))\n",
    "solution = pd.DataFrame({'Id': testdata.Id, 'Class': pred})"
   ]
  },
  {
   "cell_type": "code",
   "execution_count": 11,
   "metadata": {},
   "outputs": [
    {
     "name": "stdout",
     "output_type": "stream",
     "text": [
      "31\n"
     ]
    }
   ],
   "source": [
    "olddata = pd.read_csv('rw_submission_76tree.csv')\n",
    "diff = 0\n",
    "\n",
    "for i in range(len(olddata)):\n",
    "    if solution.Class.values[i] != olddata.Class.values[i]:\n",
    "        diff += 1\n",
    "print(diff)"
   ]
  },
  {
   "cell_type": "code",
   "execution_count": null,
   "metadata": {},
   "outputs": [],
   "source": [
    "solution.to_csv('rw_submission_lrROS.csv', index = False, columns = ['Id', 'Class'])"
   ]
  },
  {
   "cell_type": "code",
   "execution_count": null,
   "metadata": {},
   "outputs": [],
   "source": [
    "X_train.shape"
   ]
  },
  {
   "cell_type": "markdown",
   "metadata": {},
   "source": [
    "#### Decision Tree Method"
   ]
  },
  {
   "cell_type": "code",
   "execution_count": 13,
   "metadata": {},
   "outputs": [
    {
     "name": "stdout",
     "output_type": "stream",
     "text": [
      "Decision Tree Classification Accuracy:0.999\n",
      "Recall Score for Decision Tree Classification\n",
      "\n",
      "0.7358490566037735 \n",
      "\n",
      "F1 Score for Decision Tree Classification\n",
      "\n",
      "0.8210526315789474 \n",
      "\n",
      "Cross_val F1 score for Decision Tree Classification\n",
      "\n",
      "[0.72727273 0.86896552 0.75342466 0.85106383 0.78571429]\n"
     ]
    }
   ],
   "source": [
    "from sklearn import tree\n",
    "ctreefull = tree.DecisionTreeClassifier(criterion='gini', max_depth = 10, max_leaf_nodes= X_train.shape[1]//2)\n",
    "ctreefull.fit(X_train[features], y_train.values.ravel())\n",
    "tree_ptestfull = ctreefull.predict(X_test[features])\n",
    "print('Decision Tree Classification Accuracy:{0:.3f}'.format(accuracy_score(y_test, tree_ptestfull),'\\n'))\n",
    "print('Recall Score for Decision Tree Classification\\n')\n",
    "print(recall_score(y_test, tree_ptestfull), '\\n')\n",
    "print('F1 Score for Decision Tree Classification\\n')\n",
    "print(f1_score(y_test, tree_ptestfull), '\\n')\n",
    "print('Cross_val F1 score for Decision Tree Classification\\n')\n",
    "print(cross_val_score(ctreefull, X, y, cv = 5, scoring = 'f1'))"
   ]
  },
  {
   "cell_type": "code",
   "execution_count": 14,
   "metadata": {},
   "outputs": [
    {
     "name": "stdout",
     "output_type": "stream",
     "text": [
      "57018\n",
      "74\n"
     ]
    }
   ],
   "source": [
    "tree_predfinal = ctreefull.predict(reduced_test[features])\n",
    "print(reduced_test.shape[0])\n",
    "print(sum(tree_predfinal[tree_predfinal==1]))\n",
    "solution = pd.DataFrame({'Id': testdata.Id, 'Class': tree_predfinal})"
   ]
  },
  {
   "cell_type": "code",
   "execution_count": 16,
   "metadata": {},
   "outputs": [
    {
     "name": "stdout",
     "output_type": "stream",
     "text": [
      "27\n"
     ]
    }
   ],
   "source": [
    "diff = 0\n",
    "\n",
    "for i in range(len(olddata)):\n",
    "    if solution.Class.values[i] != olddata.Class.values[i]:\n",
    "        diff += 1\n",
    "print(diff)\n",
    "solution.to_csv('rw_submission_trROS.csv', index = False, columns = ['Id', 'Class'])"
   ]
  }
 ],
 "metadata": {
  "kernelspec": {
   "display_name": "Python 3",
   "language": "python",
   "name": "python3"
  },
  "language_info": {
   "codemirror_mode": {
    "name": "ipython",
    "version": 3
   },
   "file_extension": ".py",
   "mimetype": "text/x-python",
   "name": "python",
   "nbconvert_exporter": "python",
   "pygments_lexer": "ipython3",
   "version": "3.6.6"
  }
 },
 "nbformat": 4,
 "nbformat_minor": 2
}
